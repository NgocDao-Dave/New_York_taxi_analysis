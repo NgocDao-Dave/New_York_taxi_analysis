{
 "cells": [
  {
   "cell_type": "markdown",
   "id": "8512ecc7-9bb0-48ec-868f-da971bf827e3",
   "metadata": {},
   "source": [
    "# WEATHER DATA FROME METEOSTAT PROCESSING"
   ]
  },
  {
   "cell_type": "code",
   "execution_count": 33,
   "id": "c96d085b-1cb1-4e03-9863-4e45a6eae623",
   "metadata": {},
   "outputs": [],
   "source": [
    "from meteostat import Point, Hourly\n",
    "from datetime import datetime\n",
    "import pandas as pd"
   ]
  },
  {
   "cell_type": "code",
   "execution_count": 34,
   "id": "ff30d728-d6d1-4f7c-ab84-eea2ecb05c31",
   "metadata": {},
   "outputs": [],
   "source": [
    "# Define the location: Manhattan, NYC\n",
    "location = Point(40.7831, -73.9712)\n",
    "\n",
    "# Define the time period: November 1, 2023, to May 31, 2024\n",
    "start = datetime(2023, 11, 1)\n",
    "end = datetime(2024, 5, 31)\n"
   ]
  },
  {
   "cell_type": "code",
   "execution_count": 35,
   "id": "939715f9-47f7-4160-b8da-bafb80b708da",
   "metadata": {},
   "outputs": [
    {
     "name": "stdout",
     "output_type": "stream",
     "text": [
      "                     temp  dwpt  rhum  prcp  snow  wdir  wspd  wpgt    pres  \\\n",
      "time                                                                          \n",
      "2023-11-01 00:00:00   8.9   2.2  63.0   0.0   NaN   0.0   0.0   NaN  1016.0   \n",
      "2023-11-01 01:00:00   9.4   0.6  54.0   0.0   NaN  50.0   9.4   NaN  1015.8   \n",
      "2023-11-01 02:00:00   9.0   0.7  56.0   0.1   NaN  50.0   9.0   NaN  1017.0   \n",
      "2023-11-01 03:00:00   9.0   0.7  56.0   0.2   NaN  60.0   9.0   NaN  1016.0   \n",
      "2023-11-01 04:00:00   8.3   1.2  61.0   0.0   NaN   0.0   0.0   NaN  1014.6   \n",
      "\n",
      "                     tsun  coco  \n",
      "time                             \n",
      "2023-11-01 00:00:00   NaN   3.0  \n",
      "2023-11-01 01:00:00   NaN   3.0  \n",
      "2023-11-01 02:00:00   NaN   7.0  \n",
      "2023-11-01 03:00:00   NaN   7.0  \n",
      "2023-11-01 04:00:00   NaN   3.0  \n"
     ]
    },
    {
     "name": "stderr",
     "output_type": "stream",
     "text": [
      "FutureWarning: 'H' is deprecated and will be removed in a future version, please use 'h' instead.\n"
     ]
    }
   ],
   "source": [
    "# Fetch hourly weather data\n",
    "weather_data = Hourly(location, start, end)\n",
    "weather_data = weather_data.fetch()\n",
    "\n",
    "print(weather_data.head())"
   ]
  },
  {
   "cell_type": "code",
   "execution_count": 36,
   "id": "45d1db51-a2f7-4572-ae8d-5fb96fdfd651",
   "metadata": {},
   "outputs": [
    {
     "name": "stdout",
     "output_type": "stream",
     "text": [
      "                     temp  dwpt  rhum  prcp  snow   wdir  wspd  wpgt    pres  \\\n",
      "time                                                                           \n",
      "2023-11-01 00:00:00   8.9   2.2  63.0   0.0   NaN    0.0   0.0   NaN  1016.0   \n",
      "2023-11-01 01:00:00   9.4   0.6  54.0   0.0   NaN   50.0   9.4   NaN  1015.8   \n",
      "2023-11-01 02:00:00   9.0   0.7  56.0   0.1   NaN   50.0   9.0   NaN  1017.0   \n",
      "2023-11-01 03:00:00   9.0   0.7  56.0   0.2   NaN   60.0   9.0   NaN  1016.0   \n",
      "2023-11-01 04:00:00   8.3   1.2  61.0   0.0   NaN    0.0   0.0   NaN  1014.6   \n",
      "2023-11-01 05:00:00   8.3   1.2  61.0   0.0   NaN    0.0   0.0   NaN  1014.4   \n",
      "2023-11-01 06:00:00   8.9   1.8  61.0   0.0   NaN  300.0   7.6   NaN  1014.0   \n",
      "2023-11-01 07:00:00   8.0   3.1  71.0   0.2   NaN  358.0   6.0   NaN  1015.0   \n",
      "2023-11-01 08:00:00   7.2   2.9  74.0   0.3   NaN  300.0  14.8   NaN  1013.9   \n",
      "2023-11-01 09:00:00   6.0   1.5  73.0   0.2   NaN   30.0  13.0   NaN  1015.0   \n",
      "\n",
      "                     tsun  coco  \n",
      "time                             \n",
      "2023-11-01 00:00:00   NaN   3.0  \n",
      "2023-11-01 01:00:00   NaN   3.0  \n",
      "2023-11-01 02:00:00   NaN   7.0  \n",
      "2023-11-01 03:00:00   NaN   7.0  \n",
      "2023-11-01 04:00:00   NaN   3.0  \n",
      "2023-11-01 05:00:00   NaN   3.0  \n",
      "2023-11-01 06:00:00   NaN   3.0  \n",
      "2023-11-01 07:00:00   NaN   7.0  \n",
      "2023-11-01 08:00:00   NaN   8.0  \n",
      "2023-11-01 09:00:00   NaN   7.0  \n"
     ]
    }
   ],
   "source": [
    "print(weather_data.head(10))"
   ]
  },
  {
   "cell_type": "code",
   "execution_count": 37,
   "id": "c9672de7-6f79-49ef-94a8-34e35b4c7c3b",
   "metadata": {},
   "outputs": [
    {
     "name": "stdout",
     "output_type": "stream",
     "text": [
      "                     temp  rhum  prcp  wspd    pres\n",
      "time                                               \n",
      "2023-11-01 00:00:00   8.9  63.0   0.0   0.0  1016.0\n",
      "2023-11-01 01:00:00   9.4  54.0   0.0   9.4  1015.8\n",
      "2023-11-01 02:00:00   9.0  56.0   0.1   9.0  1017.0\n",
      "2023-11-01 03:00:00   9.0  56.0   0.2   9.0  1016.0\n",
      "2023-11-01 04:00:00   8.3  61.0   0.0   0.0  1014.6\n"
     ]
    }
   ],
   "source": [
    "# Keep only the specified columns\n",
    "selected_columns = [\"temp\", \"rhum\", \"prcp\", \"wspd\", \"pres\"]\n",
    "weather_data = weather_data[selected_columns]\n",
    "\n",
    "# Show the first few rows to verify\n",
    "print(weather_data.head())"
   ]
  },
  {
   "cell_type": "code",
   "execution_count": 38,
   "id": "48f2e59f-d9fe-4b79-8cc3-57838f863310",
   "metadata": {},
   "outputs": [
    {
     "name": "stdout",
     "output_type": "stream",
     "text": [
      "      level_0  hour_bucket      temp       rhum      prcp       wspd  \\\n",
      "0  2023-11-01            0  9.100000  57.666667  0.033333   6.133333   \n",
      "1  2023-11-01            3  8.533333  59.333333  0.066667   3.000000   \n",
      "2  2023-11-01            6  8.033333  68.666667  0.166667   9.466667   \n",
      "3  2023-11-01            9  6.066667  71.333333  0.066667  12.400000   \n",
      "4  2023-11-01           12  6.066667  74.000000  0.300000   9.800000   \n",
      "\n",
      "          pres  hour  \n",
      "0  1016.266667   1.0  \n",
      "1  1015.000000   4.0  \n",
      "2  1014.300000   7.0  \n",
      "3  1014.733333  10.0  \n",
      "4  1016.233333  13.0  \n"
     ]
    }
   ],
   "source": [
    "import pandas as pd\n",
    "\n",
    "weather_data['hour'] = weather_data.index.hour\n",
    "\n",
    "# Create a 3-hour bucket\n",
    "weather_data['hour_bucket'] = (weather_data['hour'] // 3) * 3\n",
    "\n",
    "# Group by date and hour_bucket, then calculate the mean for each group\n",
    "weather_data = weather_data.groupby([weather_data.index.date, 'hour_bucket']).mean()\n",
    "\n",
    "# Reset the index to have a cleaner DataFrame\n",
    "weather_data = weather_data.reset_index()\n",
    "\n",
    "# Show the first few rows to verify\n",
    "print(weather_data.head())"
   ]
  },
  {
   "cell_type": "code",
   "execution_count": 39,
   "id": "2afac2ae-fbe1-49d4-826a-7382f599da5d",
   "metadata": {},
   "outputs": [
    {
     "name": "stdout",
     "output_type": "stream",
     "text": [
      "       hour_bucket         temp         rhum         prcp         wspd  \\\n",
      "count  1697.000000  1697.000000  1697.000000  1697.000000  1697.000000   \n",
      "mean     10.493813     8.624985    60.133176     0.179572    10.204321   \n",
      "std       6.878588     6.479045    18.622229     0.754833     5.196290   \n",
      "min       0.000000    -7.766667    15.333333     0.000000     0.000000   \n",
      "25%       3.000000     4.100000    45.666667     0.000000     6.666667   \n",
      "50%       9.000000     8.033333    58.000000     0.000000     9.466667   \n",
      "75%      15.000000    12.000000    75.666667     0.000000    13.000000   \n",
      "max      21.000000    29.300000    97.666667    10.333333    40.300000   \n",
      "\n",
      "              pres         hour  \n",
      "count  1697.000000  1697.000000  \n",
      "mean   1016.605912    11.493223  \n",
      "std       8.976776     6.879530  \n",
      "min     983.800000     0.000000  \n",
      "25%    1010.933333     4.000000  \n",
      "50%    1016.333333    10.000000  \n",
      "75%    1022.400000    16.000000  \n",
      "max    1039.333333    22.000000  \n"
     ]
    }
   ],
   "source": [
    "# Generate summary statistics\n",
    "summary_statistics = weather_data.describe()\n",
    "\n",
    "# Display the summary statistics\n",
    "print(summary_statistics)"
   ]
  },
  {
   "cell_type": "code",
   "execution_count": 40,
   "id": "1ff74fac-cc9a-4268-9a1b-95cd0784a1b4",
   "metadata": {},
   "outputs": [
    {
     "name": "stdout",
     "output_type": "stream",
     "text": [
      "level_0        0\n",
      "hour_bucket    0\n",
      "temp           0\n",
      "rhum           0\n",
      "prcp           0\n",
      "wspd           0\n",
      "pres           0\n",
      "hour           0\n",
      "dtype: int64\n"
     ]
    }
   ],
   "source": [
    "# Check for null values in each column\n",
    "null_values = weather_data.isnull().sum()\n",
    "\n",
    "# Display the null values count for each column\n",
    "print(null_values)"
   ]
  },
  {
   "cell_type": "markdown",
   "id": "941b4ec9-62b6-4a56-b4f9-692186376d22",
   "metadata": {},
   "source": [
    "# PRIMARY LAND USE TAX LOT PROCESSING"
   ]
  },
  {
   "cell_type": "code",
   "execution_count": 41,
   "id": "bb9771ba-f7a5-45f4-85a4-0ae39ccb8968",
   "metadata": {},
   "outputs": [
    {
     "name": "stdout",
     "output_type": "stream",
     "text": [
      "Data successfully downloaded and saved to ../data/raw_external_data/nyc_pluto_full_data.csv\n"
     ]
    },
    {
     "name": "stderr",
     "output_type": "stream",
     "text": [
      "DtypeWarning: Columns (17,18,20,21,22,24,25,52,61,62,97) have mixed types. Specify dtype option on import or set low_memory=False.\n"
     ]
    },
    {
     "name": "stdout",
     "output_type": "stream",
     "text": [
      "First few rows of the dataset:\n",
      "  borough  block  lot  community board  census tract 2010  cb2010  schooldist  \\\n",
      "0      SI    490   45            501.0               21.0  2019.0        31.0   \n",
      "1      SI   2965   12            501.0               36.0  1000.0        31.0   \n",
      "2      SI   2965  110            501.0               36.0  1000.0        31.0   \n",
      "3      SI   2965   11            501.0               36.0  1000.0        31.0   \n",
      "4      SI   2965   20            501.0               36.0  1000.0        31.0   \n",
      "\n",
      "   council district  postcode firecomp  ...  landmkdate  basempdate  masdate  \\\n",
      "0              49.0   10304.0     L077  ...         NaN         NaN      NaN   \n",
      "1              49.0   10305.0     E153  ...         NaN         NaN      NaN   \n",
      "2              49.0   10305.0     E153  ...         NaN         NaN      NaN   \n",
      "3              49.0   10305.0     E153  ...         NaN         NaN      NaN   \n",
      "4              49.0   10305.0     E153  ...         NaN         NaN      NaN   \n",
      "\n",
      "  polidate edesigdate geom dcpedited notes    bct2020     bctcb2020  \n",
      "0      NaN        NaN  NaN       NaN   NaN  5002100.0  5.002100e+10  \n",
      "1      NaN        NaN  NaN       NaN   NaN  5003600.0  5.003600e+10  \n",
      "2      NaN        NaN  NaN       NaN   NaN  5003600.0  5.003600e+10  \n",
      "3      NaN        NaN  NaN       NaN   NaN  5003600.0  5.003600e+10  \n",
      "4      NaN        NaN  NaN       NaN   NaN  5003600.0  5.003600e+10  \n",
      "\n",
      "[5 rows x 101 columns]\n"
     ]
    }
   ],
   "source": [
    "import os\n",
    "import requests\n",
    "import pandas as pd\n",
    "\n",
    "# Direct download URL for the full CSV file (this can be get from the export button on the website to be faster)\n",
    "# This way is a bit slow, I tried using API first but some how it return data with less row so i opt for this\n",
    "csv_download_url = \"https://data.cityofnewyork.us/api/views/64uk-42ks/rows.csv?accessType=DOWNLOAD\"\n",
    "\n",
    "# Directory to save the downloaded data\n",
    "file_path = '../data/raw_external_data/'\n",
    "file_name = 'nyc_pluto_full_data.csv'  \n",
    "\n",
    "# Create the directory if it doesn't exist\n",
    "os.makedirs(file_path, exist_ok=True)\n",
    "\n",
    "# Make the HTTP GET request to download the CSV file\n",
    "response = requests.get(csv_download_url)\n",
    "\n",
    "# Check if the request was successful\n",
    "if response.status_code == 200:\n",
    "    full_file_path = os.path.join(file_path, file_name)\n",
    "    with open(full_file_path, 'wb') as f:\n",
    "        f.write(response.content)\n",
    "    print(f\"Data successfully downloaded and saved to {full_file_path}\")\n",
    "else:\n",
    "    print(f\"Failed to download data: {response.status_code} - {response.text}\")\n",
    "\n",
    "# Read the downloaded CSV file into a DataFrame\n",
    "pluto_df = pd.read_csv(full_file_path)\n",
    "\n",
    "# Display the first few rows \n",
    "print(\"First few rows of the dataset:\")\n",
    "print(pluto_df.head())"
   ]
  },
  {
   "cell_type": "code",
   "execution_count": 42,
   "id": "f1135a97-9cac-43a2-acbb-aa0b51ac43fa",
   "metadata": {},
   "outputs": [
    {
     "name": "stdout",
     "output_type": "stream",
     "text": [
      "\n",
      "Basic statistics of the dataset:\n",
      "       borough          block            lot  community board  \\\n",
      "count   859012  859012.000000  859012.000000    857488.000000   \n",
      "unique       5            NaN            NaN              NaN   \n",
      "top         QN            NaN            NaN              NaN   \n",
      "freq    324694            NaN            NaN              NaN   \n",
      "mean       NaN    5309.751874     152.316285       354.854901   \n",
      "std        NaN    3698.745853     828.991738       100.866955   \n",
      "min        NaN       0.000000       1.000000       101.000000   \n",
      "25%        NaN    2318.000000      19.000000       306.000000   \n",
      "50%        NaN    4819.000000      39.000000       402.000000   \n",
      "75%        NaN    7461.000000      64.000000       412.000000   \n",
      "max        NaN   99999.000000    9502.000000       595.000000   \n",
      "\n",
      "        census tract 2010         cb2010     schooldist  council district  \\\n",
      "count       857443.000000  857443.000000  856759.000000     857486.000000   \n",
      "unique                NaN            NaN            NaN               NaN   \n",
      "top                   NaN            NaN            NaN               NaN   \n",
      "freq                  NaN            NaN            NaN               NaN   \n",
      "mean           462.437074    2054.409765      22.067873         32.134976   \n",
      "std            377.131135    1158.387379       7.975998         13.265905   \n",
      "min              1.000000       1.000000       1.000000          1.000000   \n",
      "25%            170.000000    1004.000000      17.000000         22.000000   \n",
      "50%            350.000000    2001.000000      24.000000         32.000000   \n",
      "75%            662.000000    3000.000000      29.000000         45.000000   \n",
      "max           9901.000000    9003.000000      32.000000         51.000000   \n",
      "\n",
      "             postcode firecomp  ...  landmkdate  basempdate  masdate polidate  \\\n",
      "count   856747.000000   856740  ...         0.0         0.0      0.0      0.0   \n",
      "unique            NaN      348  ...         NaN         NaN      NaN      NaN   \n",
      "top               NaN     L170  ...         NaN         NaN      NaN      NaN   \n",
      "freq              NaN    11425  ...         NaN         NaN      NaN      NaN   \n",
      "mean     11011.489565      NaN  ...         NaN         NaN      NaN      NaN   \n",
      "std        471.528272      NaN  ...         NaN         NaN      NaN      NaN   \n",
      "min      10001.000000      NaN  ...         NaN         NaN      NaN      NaN   \n",
      "25%      10466.000000      NaN  ...         NaN         NaN      NaN      NaN   \n",
      "50%      11221.000000      NaN  ...         NaN         NaN      NaN      NaN   \n",
      "75%      11370.000000      NaN  ...         NaN         NaN      NaN      NaN   \n",
      "max      12345.000000      NaN  ...         NaN         NaN      NaN      NaN   \n",
      "\n",
      "       edesigdate geom dcpedited notes       bct2020     bctcb2020  \n",
      "count         0.0  0.0     42149   0.0  8.574430e+05  8.574430e+05  \n",
      "unique        NaN  NaN         1   NaN           NaN           NaN  \n",
      "top           NaN  NaN         t   NaN           NaN           NaN  \n",
      "freq          NaN  NaN     42149   NaN           NaN           NaN  \n",
      "mean          NaN  NaN       NaN   NaN  3.513618e+06  3.513618e+10  \n",
      "std           NaN  NaN       NaN   NaN  1.026459e+06  1.026459e+10  \n",
      "min           NaN  NaN       NaN   NaN  1.000100e+06  1.000100e+10  \n",
      "25%           NaN  NaN       NaN   NaN  3.027500e+06  3.027500e+10  \n",
      "50%           NaN  NaN       NaN   NaN  4.007100e+06  4.007100e+10  \n",
      "75%           NaN  NaN       NaN   NaN  4.089201e+06  4.089202e+10  \n",
      "max           NaN  NaN       NaN   NaN  5.990100e+06  5.990100e+10  \n",
      "\n",
      "[11 rows x 101 columns]\n"
     ]
    }
   ],
   "source": [
    "# Display basic statistics \n",
    "print(\"\\nBasic statistics of the dataset:\")\n",
    "print(pluto_df.describe(include='all'))"
   ]
  },
  {
   "cell_type": "code",
   "execution_count": 43,
   "id": "c457db1a-976d-41f2-b2c3-cb7a362663c1",
   "metadata": {},
   "outputs": [
    {
     "name": "stdout",
     "output_type": "stream",
     "text": [
      "['borough', 'block', 'lot', 'community board', 'census tract 2010', 'cb2010', 'schooldist', 'council district', 'postcode', 'firecomp', 'policeprct', 'healtharea', 'sanitboro', 'sanitsub', 'address', 'zonedist1', 'zonedist2', 'zonedist3', 'zonedist4', 'overlay1', 'overlay2', 'spdist1', 'spdist2', 'spdist3', 'ltdheight', 'splitzone', 'bldgclass', 'landuse', 'easements', 'ownertype', 'ownername', 'lotarea', 'bldgarea', 'comarea', 'resarea', 'officearea', 'retailarea', 'garagearea', 'strgearea', 'factryarea', 'otherarea', 'areasource', 'numbldgs', 'numfloors', 'unitsres', 'unitstotal', 'lotfront', 'lotdepth', 'bldgfront', 'bldgdepth', 'ext', 'proxcode', 'irrlotcode', 'lottype', 'bsmtcode', 'assessland', 'assesstot', 'exempttot', 'yearbuilt', 'yearalter1', 'yearalter2', 'histdist', 'landmark', 'builtfar', 'residfar', 'commfar', 'facilfar', 'borocode', 'bbl', 'condono', 'tract2010', 'xcoord', 'ycoord', 'latitude', 'longitude', 'zonemap', 'zmcode', 'sanborn', 'taxmap', 'edesignum', 'appbbl', 'appdate', 'plutomapid', 'version', 'sanitdistrict', 'healthcenterdistrict', 'firm07_flag', 'pfirm15_flag', 'rpaddate', 'dcasdate', 'zoningdate', 'landmkdate', 'basempdate', 'masdate', 'polidate', 'edesigdate', 'geom', 'dcpedited', 'notes', 'bct2020', 'bctcb2020']\n"
     ]
    }
   ],
   "source": [
    "# Print all column names\n",
    "print(pluto_df.columns.tolist())"
   ]
  },
  {
   "cell_type": "code",
   "execution_count": 44,
   "id": "d3d74bd9-85d7-44f1-ac9a-e28bc496b2d5",
   "metadata": {},
   "outputs": [
    {
     "name": "stdout",
     "output_type": "stream",
     "text": [
      "  bldgclass  lotarea  assesstot   latitude  longitude\n",
      "0        F5   5396.0   115650.0  40.628871 -74.075060\n",
      "1        B2   6040.0    48060.0  40.615436 -74.074678\n",
      "2        B2   3700.0    49260.0  40.615510 -74.074487\n",
      "3        B2   3822.0    49380.0  40.615474 -74.074566\n",
      "4        B3   3600.0    32160.0  40.615273 -74.075031\n"
     ]
    }
   ],
   "source": [
    "# Keep only the specified columns\n",
    "pluto_df = pluto_df[['bldgclass', 'lotarea', 'assesstot', 'latitude', 'longitude']]\n",
    "\n",
    "# Show the first few rows to verify \n",
    "print(pluto_df.head())"
   ]
  },
  {
   "cell_type": "markdown",
   "id": "3de7e50a-f125-4a0d-b153-acfd1e910d2c",
   "metadata": {},
   "source": [
    "## Get taxi zone detail for each lot using coordinate"
   ]
  },
  {
   "cell_type": "code",
   "execution_count": 45,
   "id": "2b61865f-d18e-4cb8-92c6-f3c3a4033fc1",
   "metadata": {},
   "outputs": [
    {
     "data": {
      "text/html": [
       "<div>\n",
       "<style scoped>\n",
       "    .dataframe tbody tr th:only-of-type {\n",
       "        vertical-align: middle;\n",
       "    }\n",
       "\n",
       "    .dataframe tbody tr th {\n",
       "        vertical-align: top;\n",
       "    }\n",
       "\n",
       "    .dataframe thead th {\n",
       "        text-align: right;\n",
       "    }\n",
       "</style>\n",
       "<table border=\"1\" class=\"dataframe\">\n",
       "  <thead>\n",
       "    <tr style=\"text-align: right;\">\n",
       "      <th></th>\n",
       "      <th>bldgclass</th>\n",
       "      <th>lotarea</th>\n",
       "      <th>assesstot</th>\n",
       "      <th>latitude</th>\n",
       "      <th>longitude</th>\n",
       "      <th>geometry</th>\n",
       "    </tr>\n",
       "  </thead>\n",
       "  <tbody>\n",
       "    <tr>\n",
       "      <th>0</th>\n",
       "      <td>F5</td>\n",
       "      <td>5396.0</td>\n",
       "      <td>115650.0</td>\n",
       "      <td>40.628871</td>\n",
       "      <td>-74.075060</td>\n",
       "      <td>POINT (-74.07506 40.62887)</td>\n",
       "    </tr>\n",
       "    <tr>\n",
       "      <th>1</th>\n",
       "      <td>B2</td>\n",
       "      <td>6040.0</td>\n",
       "      <td>48060.0</td>\n",
       "      <td>40.615436</td>\n",
       "      <td>-74.074678</td>\n",
       "      <td>POINT (-74.07468 40.61544)</td>\n",
       "    </tr>\n",
       "    <tr>\n",
       "      <th>2</th>\n",
       "      <td>B2</td>\n",
       "      <td>3700.0</td>\n",
       "      <td>49260.0</td>\n",
       "      <td>40.615510</td>\n",
       "      <td>-74.074487</td>\n",
       "      <td>POINT (-74.07449 40.61551)</td>\n",
       "    </tr>\n",
       "    <tr>\n",
       "      <th>3</th>\n",
       "      <td>B2</td>\n",
       "      <td>3822.0</td>\n",
       "      <td>49380.0</td>\n",
       "      <td>40.615474</td>\n",
       "      <td>-74.074566</td>\n",
       "      <td>POINT (-74.07457 40.61547)</td>\n",
       "    </tr>\n",
       "    <tr>\n",
       "      <th>4</th>\n",
       "      <td>B3</td>\n",
       "      <td>3600.0</td>\n",
       "      <td>32160.0</td>\n",
       "      <td>40.615273</td>\n",
       "      <td>-74.075031</td>\n",
       "      <td>POINT (-74.07503 40.61527)</td>\n",
       "    </tr>\n",
       "    <tr>\n",
       "      <th>...</th>\n",
       "      <td>...</td>\n",
       "      <td>...</td>\n",
       "      <td>...</td>\n",
       "      <td>...</td>\n",
       "      <td>...</td>\n",
       "      <td>...</td>\n",
       "    </tr>\n",
       "    <tr>\n",
       "      <th>859007</th>\n",
       "      <td>G0</td>\n",
       "      <td>2500.0</td>\n",
       "      <td>12060.0</td>\n",
       "      <td>40.612335</td>\n",
       "      <td>-74.072647</td>\n",
       "      <td>POINT (-74.07265 40.61234)</td>\n",
       "    </tr>\n",
       "    <tr>\n",
       "      <th>859008</th>\n",
       "      <td>V0</td>\n",
       "      <td>3640.0</td>\n",
       "      <td>17520.0</td>\n",
       "      <td>40.590156</td>\n",
       "      <td>-74.074790</td>\n",
       "      <td>POINT (-74.07479 40.59016)</td>\n",
       "    </tr>\n",
       "    <tr>\n",
       "      <th>859009</th>\n",
       "      <td>V0</td>\n",
       "      <td>2160.0</td>\n",
       "      <td>9360.0</td>\n",
       "      <td>40.598490</td>\n",
       "      <td>-74.063762</td>\n",
       "      <td>POINT (-74.06376 40.59849)</td>\n",
       "    </tr>\n",
       "    <tr>\n",
       "      <th>859010</th>\n",
       "      <td>V0</td>\n",
       "      <td>350.0</td>\n",
       "      <td>234.0</td>\n",
       "      <td>40.595247</td>\n",
       "      <td>-74.084032</td>\n",
       "      <td>POINT (-74.08403 40.59525)</td>\n",
       "    </tr>\n",
       "    <tr>\n",
       "      <th>859011</th>\n",
       "      <td>V1</td>\n",
       "      <td>2150.0</td>\n",
       "      <td>64350.0</td>\n",
       "      <td>40.605724</td>\n",
       "      <td>-74.083840</td>\n",
       "      <td>POINT (-74.08384 40.60572)</td>\n",
       "    </tr>\n",
       "  </tbody>\n",
       "</table>\n",
       "<p>859012 rows × 6 columns</p>\n",
       "</div>"
      ],
      "text/plain": [
       "       bldgclass  lotarea  assesstot   latitude  longitude  \\\n",
       "0             F5   5396.0   115650.0  40.628871 -74.075060   \n",
       "1             B2   6040.0    48060.0  40.615436 -74.074678   \n",
       "2             B2   3700.0    49260.0  40.615510 -74.074487   \n",
       "3             B2   3822.0    49380.0  40.615474 -74.074566   \n",
       "4             B3   3600.0    32160.0  40.615273 -74.075031   \n",
       "...          ...      ...        ...        ...        ...   \n",
       "859007        G0   2500.0    12060.0  40.612335 -74.072647   \n",
       "859008        V0   3640.0    17520.0  40.590156 -74.074790   \n",
       "859009        V0   2160.0     9360.0  40.598490 -74.063762   \n",
       "859010        V0    350.0      234.0  40.595247 -74.084032   \n",
       "859011        V1   2150.0    64350.0  40.605724 -74.083840   \n",
       "\n",
       "                          geometry  \n",
       "0       POINT (-74.07506 40.62887)  \n",
       "1       POINT (-74.07468 40.61544)  \n",
       "2       POINT (-74.07449 40.61551)  \n",
       "3       POINT (-74.07457 40.61547)  \n",
       "4       POINT (-74.07503 40.61527)  \n",
       "...                            ...  \n",
       "859007  POINT (-74.07265 40.61234)  \n",
       "859008  POINT (-74.07479 40.59016)  \n",
       "859009  POINT (-74.06376 40.59849)  \n",
       "859010  POINT (-74.08403 40.59525)  \n",
       "859011  POINT (-74.08384 40.60572)  \n",
       "\n",
       "[859012 rows x 6 columns]"
      ]
     },
     "execution_count": 45,
     "metadata": {},
     "output_type": "execute_result"
    }
   ],
   "source": [
    "import geopandas as gpd\n",
    "from shapely.geometry import Point\n",
    "\n",
    "geometry = [Point(xy) for xy in zip(pluto_df['longitude'], pluto_df['latitude'])]\n",
    "pluto_gdf = gpd.GeoDataFrame(pluto_df, geometry=geometry)\n",
    "\n",
    "# Set the initial CRS for pluto_gdf to WGS 84 (EPSG:4326)\n",
    "pluto_gdf.set_crs(epsg=4326, inplace=True)"
   ]
  },
  {
   "cell_type": "code",
   "execution_count": 46,
   "id": "c1c1bb43-895d-49c1-8bee-dccfb26285de",
   "metadata": {},
   "outputs": [],
   "source": [
    "taxi_zones_gdf = gpd.read_file('../data/raw/taxi_zones/taxi_zones.shp')"
   ]
  },
  {
   "cell_type": "code",
   "execution_count": 47,
   "id": "3527a0fa-6be1-4021-9502-61d1247c581a",
   "metadata": {},
   "outputs": [],
   "source": [
    "# Reproject the pluto_gdf to the CRS of taxi_zones_gdf\n",
    "pluto_gdf = pluto_gdf.to_crs(taxi_zones_gdf.crs)\n",
    "\n",
    "# Perform the spatial join\n",
    "pluto_gdf = gpd.sjoin(pluto_gdf, taxi_zones_gdf, how=\"inner\", predicate=\"within\")\n",
    "\n",
    "# Discard records that do not fall within any taxi zone\n",
    "pluto_gdf = pluto_gdf.dropna(subset=['index_right'])"
   ]
  },
  {
   "cell_type": "code",
   "execution_count": 48,
   "id": "2fade03d-4c9c-470a-9636-e72b18167592",
   "metadata": {},
   "outputs": [
    {
     "name": "stdout",
     "output_type": "stream",
     "text": [
      "  bldgclass  lotarea  assesstot   latitude  longitude  \\\n",
      "0        F5   5396.0   115650.0  40.628871 -74.075060   \n",
      "1        B2   6040.0    48060.0  40.615436 -74.074678   \n",
      "2        B2   3700.0    49260.0  40.615510 -74.074487   \n",
      "3        B2   3822.0    49380.0  40.615474 -74.074566   \n",
      "4        B3   3600.0    32160.0  40.615273 -74.075031   \n",
      "\n",
      "                        geometry  index_right  OBJECTID  Shape_Leng  \\\n",
      "0  POINT (963414.987 168400.004)          220       221    0.166218   \n",
      "1  POINT (963516.987 163505.007)          220       221    0.166218   \n",
      "2   POINT (963570.01 163531.995)          220       221    0.166218   \n",
      "3  POINT (963548.011 163519.007)          220       221    0.166218   \n",
      "4  POINT (963418.988 163445.997)          220       221    0.166218   \n",
      "\n",
      "   Shape_Area       zone  LocationID        borough  \n",
      "0     0.00089  Stapleton         221  Staten Island  \n",
      "1     0.00089  Stapleton         221  Staten Island  \n",
      "2     0.00089  Stapleton         221  Staten Island  \n",
      "3     0.00089  Stapleton         221  Staten Island  \n",
      "4     0.00089  Stapleton         221  Staten Island  \n",
      "Number of records after spatial join: 856087\n"
     ]
    }
   ],
   "source": [
    "print(pluto_gdf.head())\n",
    "print(f\"Number of records after spatial join: {len(pluto_gdf)}\")"
   ]
  },
  {
   "cell_type": "code",
   "execution_count": 49,
   "id": "cd9469b7-374c-4b45-b809-c30090949aa2",
   "metadata": {},
   "outputs": [],
   "source": [
    "# We no longer need coordinate after location ID is derived\n",
    "pluto_gdf = pluto_gdf[['bldgclass', 'lotarea', 'assesstot', 'LocationID']]"
   ]
  },
  {
   "cell_type": "code",
   "execution_count": 50,
   "id": "21358aca-4f1c-46d6-a952-77087ec892dc",
   "metadata": {},
   "outputs": [
    {
     "data": {
      "text/html": [
       "<div>\n",
       "<style scoped>\n",
       "    .dataframe tbody tr th:only-of-type {\n",
       "        vertical-align: middle;\n",
       "    }\n",
       "\n",
       "    .dataframe tbody tr th {\n",
       "        vertical-align: top;\n",
       "    }\n",
       "\n",
       "    .dataframe thead th {\n",
       "        text-align: right;\n",
       "    }\n",
       "</style>\n",
       "<table border=\"1\" class=\"dataframe\">\n",
       "  <thead>\n",
       "    <tr style=\"text-align: right;\">\n",
       "      <th></th>\n",
       "      <th>bldgclass</th>\n",
       "      <th>lotarea</th>\n",
       "      <th>assesstot</th>\n",
       "      <th>LocationID</th>\n",
       "    </tr>\n",
       "  </thead>\n",
       "  <tbody>\n",
       "    <tr>\n",
       "      <th>0</th>\n",
       "      <td>F5</td>\n",
       "      <td>5396.0</td>\n",
       "      <td>115650.0</td>\n",
       "      <td>221</td>\n",
       "    </tr>\n",
       "    <tr>\n",
       "      <th>1</th>\n",
       "      <td>B2</td>\n",
       "      <td>6040.0</td>\n",
       "      <td>48060.0</td>\n",
       "      <td>221</td>\n",
       "    </tr>\n",
       "    <tr>\n",
       "      <th>2</th>\n",
       "      <td>B2</td>\n",
       "      <td>3700.0</td>\n",
       "      <td>49260.0</td>\n",
       "      <td>221</td>\n",
       "    </tr>\n",
       "    <tr>\n",
       "      <th>3</th>\n",
       "      <td>B2</td>\n",
       "      <td>3822.0</td>\n",
       "      <td>49380.0</td>\n",
       "      <td>221</td>\n",
       "    </tr>\n",
       "    <tr>\n",
       "      <th>4</th>\n",
       "      <td>B3</td>\n",
       "      <td>3600.0</td>\n",
       "      <td>32160.0</td>\n",
       "      <td>221</td>\n",
       "    </tr>\n",
       "  </tbody>\n",
       "</table>\n",
       "</div>"
      ],
      "text/plain": [
       "  bldgclass  lotarea  assesstot  LocationID\n",
       "0        F5   5396.0   115650.0         221\n",
       "1        B2   6040.0    48060.0         221\n",
       "2        B2   3700.0    49260.0         221\n",
       "3        B2   3822.0    49380.0         221\n",
       "4        B3   3600.0    32160.0         221"
      ]
     },
     "execution_count": 50,
     "metadata": {},
     "output_type": "execute_result"
    }
   ],
   "source": [
    "pluto_gdf.head()"
   ]
  },
  {
   "cell_type": "markdown",
   "id": "d3d41c03",
   "metadata": {},
   "source": [
    "## Extract the buiding class "
   ]
  },
  {
   "cell_type": "code",
   "execution_count": 51,
   "id": "8ed1ac28-d8de-4b8d-8d41-99dd3727fd37",
   "metadata": {},
   "outputs": [
    {
     "name": "stdout",
     "output_type": "stream",
     "text": [
      "   lotarea  assesstot  LocationID  A  B  C  D  E  F  G  ...  P  Q  R  S  T  U  \\\n",
      "0   5396.0   115650.0         221  0  0  0  0  0  1  0  ...  0  0  0  0  0  0   \n",
      "1   6040.0    48060.0         221  0  1  0  0  0  0  0  ...  0  0  0  0  0  0   \n",
      "2   3700.0    49260.0         221  0  1  0  0  0  0  0  ...  0  0  0  0  0  0   \n",
      "3   3822.0    49380.0         221  0  1  0  0  0  0  0  ...  0  0  0  0  0  0   \n",
      "4   3600.0    32160.0         221  0  1  0  0  0  0  0  ...  0  0  0  0  0  0   \n",
      "\n",
      "   V  W  Y  Z  \n",
      "0  0  0  0  0  \n",
      "1  0  0  0  0  \n",
      "2  0  0  0  0  \n",
      "3  0  0  0  0  \n",
      "4  0  0  0  0  \n",
      "\n",
      "[5 rows x 28 columns]\n"
     ]
    }
   ],
   "source": [
    "import string \n",
    "\n",
    "# Extract the first letter from 'bldgclass'\n",
    "pluto_gdf['bldgclass'] = pluto_gdf['bldgclass'].str[0]\n",
    "\n",
    "# Create columns for all alphabet characters except 'X'\n",
    "alphabet = [letter for letter in string.ascii_uppercase if letter != 'X']\n",
    "for letter in alphabet:\n",
    "    pluto_gdf[letter] = (pluto_gdf['bldgclass'] == letter).astype(int)\n",
    "\n",
    "# Keep 'assesstot' and 'LocationID' columns\n",
    "pluto_gdf = pluto_gdf.drop(columns=['bldgclass'])\n",
    "\n",
    "# Display the result\n",
    "print(pluto_gdf.head())"
   ]
  },
  {
   "cell_type": "markdown",
   "id": "c2091bf7",
   "metadata": {},
   "source": [
    "## Scale by area "
   ]
  },
  {
   "cell_type": "code",
   "execution_count": 52,
   "id": "12692f02-740c-4dfb-8b83-f9c5a61e68ca",
   "metadata": {},
   "outputs": [
    {
     "name": "stdout",
     "output_type": "stream",
     "text": [
      "   assesstot  LocationID    A       B    C    D    E       F    G    H  ...  \\\n",
      "0   115650.0         221  0.0     0.0  0.0  0.0  0.0  5396.0  0.0  0.0  ...   \n",
      "1    48060.0         221  0.0  6040.0  0.0  0.0  0.0     0.0  0.0  0.0  ...   \n",
      "2    49260.0         221  0.0  3700.0  0.0  0.0  0.0     0.0  0.0  0.0  ...   \n",
      "3    49380.0         221  0.0  3822.0  0.0  0.0  0.0     0.0  0.0  0.0  ...   \n",
      "4    32160.0         221  0.0  3600.0  0.0  0.0  0.0     0.0  0.0  0.0  ...   \n",
      "\n",
      "     P    Q    R    S    T    U    V    W    Y    Z  \n",
      "0  0.0  0.0  0.0  0.0  0.0  0.0  0.0  0.0  0.0  0.0  \n",
      "1  0.0  0.0  0.0  0.0  0.0  0.0  0.0  0.0  0.0  0.0  \n",
      "2  0.0  0.0  0.0  0.0  0.0  0.0  0.0  0.0  0.0  0.0  \n",
      "3  0.0  0.0  0.0  0.0  0.0  0.0  0.0  0.0  0.0  0.0  \n",
      "4  0.0  0.0  0.0  0.0  0.0  0.0  0.0  0.0  0.0  0.0  \n",
      "\n",
      "[5 rows x 27 columns]\n"
     ]
    }
   ],
   "source": [
    "# Replace 1s with the value from 'lotarea'\n",
    "for letter in alphabet:\n",
    "    pluto_gdf[letter] = pluto_gdf[letter] * pluto_gdf['lotarea']\n",
    "\n",
    "# Keep only the 'assesstot' and 'LocationID' columns and the new alphabet columns\n",
    "pluto_gdf = pluto_gdf[['assesstot', 'LocationID'] + alphabet]\n",
    "\n",
    "# Display the result\n",
    "print(pluto_gdf.head())"
   ]
  },
  {
   "cell_type": "markdown",
   "id": "82544bd6",
   "metadata": {},
   "source": [
    "## Get Total building class area for each group"
   ]
  },
  {
   "cell_type": "code",
   "execution_count": 53,
   "id": "cab9a8fa-5b76-4aa7-ba25-5220727acaab",
   "metadata": {},
   "outputs": [
    {
     "name": "stdout",
     "output_type": "stream",
     "text": [
      "   LocationID     assesstot           A          B          C          D  \\\n",
      "0           2  9.937224e+07         0.0        0.0        0.0        0.0   \n",
      "1           3  5.040730e+08   7047141.0  7150772.0  1515755.0   693401.0   \n",
      "2           4  1.465485e+09      5921.0    10948.0   939143.0  2450346.0   \n",
      "3           5  4.931142e+08  14984624.0  7539322.0    20320.0        0.0   \n",
      "4           6  4.104656e+08   8365839.0  2731549.0   494271.0  1369428.0   \n",
      "\n",
      "          E       F         G        H  ...        P          Q          R  \\\n",
      "0       0.0     0.0   10500.0      0.0  ...      0.0  5948180.0        0.0   \n",
      "1   35244.0  5000.0  327339.0  51860.0  ...  10000.0    27000.0     3700.0   \n",
      "2   22561.0  2237.0   25724.0      0.0  ...   8752.0  2551701.0   203390.0   \n",
      "3       0.0     0.0    3872.0      0.0  ...      0.0  6405899.0   704158.0   \n",
      "4  114660.0     0.0  334819.0  23400.0  ...  75850.0  1002633.0  1885623.0   \n",
      "\n",
      "          S        T          U          V          W          Y          Z  \n",
      "0       0.0      0.0  1799161.0   543604.0        0.0        0.0        0.0  \n",
      "1  221646.0      0.0   382335.0   358631.0   631329.0     5000.0    33152.0  \n",
      "2   64232.0  37225.0   251712.0    26904.0   297268.0    36165.0     4933.0  \n",
      "3   95080.0      0.0        0.0  4136311.0   371240.0     6200.0   357387.0  \n",
      "4  213600.0      0.0   165443.0   778753.0  1587535.0  9055662.0  1247205.0  \n",
      "\n",
      "[5 rows x 27 columns]\n"
     ]
    }
   ],
   "source": [
    "# Group by 'LocationID' and sum all columns within each group\n",
    "pluto_gdf = pluto_gdf.groupby('LocationID').sum()\n",
    "\n",
    "# Reset the index to keep 'LocationID' as a column\n",
    "pluto_gdf = pluto_gdf.reset_index()\n",
    "\n",
    "# Display the result\n",
    "print(pluto_gdf.head())"
   ]
  },
  {
   "cell_type": "code",
   "execution_count": 54,
   "id": "bc55ef28-b88f-4eef-a6e0-5f5cad13229f",
   "metadata": {},
   "outputs": [
    {
     "name": "stdout",
     "output_type": "stream",
     "text": [
      "     LocationID     assesstot           A          B          C          D  \\\n",
      "0             2  9.937224e+07         0.0        0.0        0.0        0.0   \n",
      "1             3  5.040730e+08   7047141.0  7150772.0  1515755.0   693401.0   \n",
      "2             4  1.465485e+09      5921.0    10948.0   939143.0  2450346.0   \n",
      "3             5  4.931142e+08  14984624.0  7539322.0    20320.0        0.0   \n",
      "4             6  4.104656e+08   8365839.0  2731549.0   494271.0  1369428.0   \n",
      "..          ...           ...         ...        ...        ...        ...   \n",
      "254         259  7.116378e+08   6448219.0  8533873.0  3232477.0   771045.0   \n",
      "255         260  1.139663e+09   1589362.0  3042814.0  3354348.0  1756991.0   \n",
      "256         261  3.670384e+09         0.0        0.0     5157.0   114883.0   \n",
      "257         262  2.783648e+09    105616.0    52017.0   834844.0  1950942.0   \n",
      "258         263  3.719584e+09     31259.0    19254.0  1483897.0  1478581.0   \n",
      "\n",
      "             E         F          G        H  ...         P          Q  \\\n",
      "0          0.0       0.0    10500.0      0.0  ...       0.0  5948180.0   \n",
      "1      35244.0    5000.0   327339.0  51860.0  ...   10000.0    27000.0   \n",
      "2      22561.0    2237.0    25724.0      0.0  ...    8752.0  2551701.0   \n",
      "3          0.0       0.0     3872.0      0.0  ...       0.0  6405899.0   \n",
      "4     114660.0       0.0   334819.0  23400.0  ...   75850.0  1002633.0   \n",
      "..         ...       ...        ...      ...  ...       ...        ...   \n",
      "254   492919.0  197134.0   883298.0  85342.0  ...   45398.0   761083.0   \n",
      "255  1040817.0  890182.0  1281530.0  40050.0  ...   41112.0   542899.0   \n",
      "256        0.0       0.0   280746.0  73365.0  ...       0.0    69145.0   \n",
      "257    44712.0       0.0    20141.0   3104.0  ...  376747.0   661350.0   \n",
      "258     2750.0   11957.0    63294.0      0.0  ...   14273.0    43506.0   \n",
      "\n",
      "             R         S        T          U          V          W          Y  \\\n",
      "0          0.0       0.0      0.0  1799161.0   543604.0        0.0        0.0   \n",
      "1       3700.0  221646.0      0.0   382335.0   358631.0   631329.0     5000.0   \n",
      "2     203390.0   64232.0  37225.0   251712.0    26904.0   297268.0    36165.0   \n",
      "3     704158.0   95080.0      0.0        0.0  4136311.0   371240.0     6200.0   \n",
      "4    1885623.0  213600.0      0.0   165443.0   778753.0  1587535.0  9055662.0   \n",
      "..         ...       ...      ...        ...        ...        ...        ...   \n",
      "254        0.0  239255.0      0.0  2225678.0   867910.0  1192861.0    10300.0   \n",
      "255   492366.0  289561.0      0.0  1871536.0   213687.0   527374.0     6000.0   \n",
      "256   296648.0    3677.0      0.0     4621.0    17355.0    16871.0     4381.0   \n",
      "257   234189.0   28574.0  17095.0        0.0       94.0   112415.0   139889.0   \n",
      "258   736346.0   87978.0      0.0     3867.0    26610.0    88227.0        0.0   \n",
      "\n",
      "             Z  \n",
      "0          0.0  \n",
      "1      33152.0  \n",
      "2       4933.0  \n",
      "3     357387.0  \n",
      "4    1247205.0  \n",
      "..         ...  \n",
      "254   141660.0  \n",
      "255  9679288.0  \n",
      "256       71.0  \n",
      "257     3800.0  \n",
      "258    24604.0  \n",
      "\n",
      "[259 rows x 27 columns]\n"
     ]
    }
   ],
   "source": [
    "print(pluto_gdf.head(263))"
   ]
  },
  {
   "cell_type": "markdown",
   "id": "cad9a410",
   "metadata": {},
   "source": [
    "## Get percentage of each type of building's area and the average land value"
   ]
  },
  {
   "cell_type": "code",
   "execution_count": 55,
   "id": "001e4744-2d83-4df0-9d99-c57edb040d16",
   "metadata": {},
   "outputs": [
    {
     "name": "stdout",
     "output_type": "stream",
     "text": [
      "   LocationID     assesstot          A          B          C          D  \\\n",
      "0           2  9.937224e+07   0.000000   0.000000   0.000000   0.000000   \n",
      "1           3  5.040730e+08  34.133751  34.635702   7.341758   3.358579   \n",
      "2           4  1.465485e+09   0.082010   0.151637  13.007715  33.938818   \n",
      "3           5  4.931142e+08  42.346012  21.305854   0.057424   0.000000   \n",
      "4           6  4.104656e+08  26.889835   8.779861   1.588707   4.401674   \n",
      "\n",
      "          E         F         G         H  ...         R         S         T  \\\n",
      "0  0.000000  0.000000  0.126484  0.000000  ...  0.000000  0.000000  0.000000   \n",
      "1  0.170709  0.024218  1.585509  0.251191  ...  0.017921  1.073571  0.000000   \n",
      "2  0.312484  0.030984  0.356293  0.000000  ...  2.817078  0.889653  0.515589   \n",
      "3  0.000000  0.000000  0.010942  0.000000  ...  1.989925  0.268693  0.000000   \n",
      "4  0.368545  0.000000  1.076189  0.075213  ...  6.060849  0.686562  0.000000   \n",
      "\n",
      "           U          V         W          Y         Z  total_area  \\\n",
      "0  21.672865   6.548306  0.000000   0.000000  0.000000   8301445.0   \n",
      "1   1.851890   1.737076  3.057925   0.024218  0.160576  20645668.0   \n",
      "2   3.486368   0.372637  4.117347   0.500908  0.068325   7219892.0   \n",
      "3   0.000000  11.689067  1.049111   0.017521  1.009963  35386152.0   \n",
      "4   0.531774   2.503101  5.102722  29.107093  4.008819  31111530.0   \n",
      "\n",
      "   avg_land_value  \n",
      "0       11.970475  \n",
      "1       24.415437  \n",
      "2      202.978833  \n",
      "3       13.935230  \n",
      "4       13.193358  \n",
      "\n",
      "[5 rows x 29 columns]\n"
     ]
    }
   ],
   "source": [
    "# Calculate the total land area for each row\n",
    "pluto_gdf['total_area'] = pluto_gdf.loc[:, 'A':'Z'].sum(axis=1)\n",
    "\n",
    "# Calculate the percentage for each column A to Z\n",
    "for col in pluto_gdf.columns[2:-1]:  # Exclude 'LocationID', 'assesstot', and 'total_area'\n",
    "    pluto_gdf[col] = (pluto_gdf[col] / pluto_gdf['total_area']) * 100\n",
    "\n",
    "# Calculate the average land value (assesstot / total_area)\n",
    "pluto_gdf['avg_land_value'] = pluto_gdf['assesstot'] / pluto_gdf['total_area']\n",
    "\n",
    "# Display the result\n",
    "print(pluto_gdf.head())"
   ]
  },
  {
   "cell_type": "code",
   "execution_count": 56,
   "id": "5fbec7ea-086b-41bb-8c2c-8e493b15fcac",
   "metadata": {},
   "outputs": [
    {
     "name": "stdout",
     "output_type": "stream",
     "text": [
      "   LocationID   assesstot    A    B    C    D    E    F         G    H  ...  \\\n",
      "0           2  99372240.0  0.0  0.0  0.0  0.0  0.0  0.0  0.126484  0.0  ...   \n",
      "\n",
      "     R    S    T          U         V    W    Y    Z  total_area  \\\n",
      "0  0.0  0.0  0.0  21.672865  6.548306  0.0  0.0  0.0   8301445.0   \n",
      "\n",
      "   avg_land_value  \n",
      "0       11.970475  \n",
      "\n",
      "[1 rows x 29 columns]\n"
     ]
    }
   ],
   "source": [
    "print(pluto_gdf.head(1))"
   ]
  },
  {
   "cell_type": "code",
   "execution_count": 57,
   "id": "acfc6a6f-4ed5-4edf-b5cd-a4adbe7fba62",
   "metadata": {},
   "outputs": [
    {
     "name": "stdout",
     "output_type": "stream",
     "text": [
      "Missing LocationIDs: {104, 1, 105, 57}\n"
     ]
    }
   ],
   "source": [
    "# Extract the set of all LocationIDs from 1 to 263\n",
    "all_location_ids = set(range(1, 264))\n",
    "\n",
    "# Extract the set of LocationIDs in pluto_gdf\n",
    "grouped_location_ids = set(pluto_gdf['LocationID'])\n",
    "\n",
    "# Find the missing LocationIDs\n",
    "missing_location_ids = all_location_ids - grouped_location_ids\n",
    "\n",
    "# Print the missing LocationIDs\n",
    "print(f\"Missing LocationIDs: {missing_location_ids}\")"
   ]
  },
  {
   "cell_type": "markdown",
   "id": "4d1f1b15-c1f6-4735-8d2b-227ee6cc4871",
   "metadata": {},
   "source": [
    "## Handle case of similar naming for LocationID"
   ]
  },
  {
   "cell_type": "code",
   "execution_count": 58,
   "id": "ac4a0175-e890-4dc3-b5c4-5175d0ce5a07",
   "metadata": {},
   "outputs": [
    {
     "name": "stdout",
     "output_type": "stream",
     "text": [
      "     LocationID    assesstot         A          B          C          D  \\\n",
      "54           56  980357622.0  6.130376  19.035176  31.064828  16.216995   \n",
      "100         103  282744123.0  0.000000   0.000000   0.000000   0.000000   \n",
      "259         104  282744123.0  0.000000   0.000000   0.000000   0.000000   \n",
      "260         105  282744123.0  0.000000   0.000000   0.000000   0.000000   \n",
      "261          57  980357622.0  6.130376  19.035176  31.064828  16.216995   \n",
      "\n",
      "            E         F         G         H  ...         R         S    T  \\\n",
      "54   0.824886  1.741092  3.842485  0.680907  ...  1.704831  2.928665  0.0   \n",
      "100  0.000000  0.000000  0.000000  0.000000  ...  0.000000  0.000000  0.0   \n",
      "259  0.000000  0.000000  0.000000  0.000000  ...  0.000000  0.000000  0.0   \n",
      "260  0.000000  0.000000  0.000000  0.000000  ...  0.000000  0.000000  0.0   \n",
      "261  0.824886  1.741092  3.842485  0.680907  ...  1.704831  2.928665  0.0   \n",
      "\n",
      "            U         V        W          Y          Z  total_area  \\\n",
      "54   4.046692  0.578136  2.72181   0.115072   0.471822  13405492.0   \n",
      "100  0.000000  0.000000  0.00000  70.061166  25.031677  11042768.0   \n",
      "259  0.000000  0.000000  0.00000  70.061166  25.031677  11042768.0   \n",
      "260  0.000000  0.000000  0.00000  70.061166  25.031677  11042768.0   \n",
      "261  4.046692  0.578136  2.72181   0.115072   0.471822  13405492.0   \n",
      "\n",
      "     avg_land_value  \n",
      "54        73.131044  \n",
      "100       25.604461  \n",
      "259       25.604461  \n",
      "260       25.604461  \n",
      "261       73.131044  \n",
      "\n",
      "[5 rows x 29 columns]\n"
     ]
    }
   ],
   "source": [
    "# Select the row with LocationID 103 and create new rows for 104 and 105 (I suspect that since 103-105 \n",
    "# has similar naming zone so it's a point of confusion\n",
    "row_103 = pluto_gdf[pluto_gdf['LocationID'] == 103]\n",
    "row_104 = row_103.copy()\n",
    "row_104['LocationID'] = 104\n",
    "\n",
    "row_105 = row_103.copy()\n",
    "row_105['LocationID'] = 105\n",
    "\n",
    "# Select the row with LocationID 56 and create a new row for 57(similar case as above)\n",
    "row_56 = pluto_gdf[pluto_gdf['LocationID'] == 56]\n",
    "row_57 = row_56.copy()\n",
    "row_57['LocationID'] = 57\n",
    "\n",
    "# Append the new rows to the original DataFrame\n",
    "pluto_gdf = pd.concat([pluto_gdf, row_104, row_105, row_57], ignore_index=True)\n",
    "\n",
    "# Verify the results\n",
    "print(pluto_gdf[pluto_gdf['LocationID'].isin([103, 104, 105, 56, 57])])"
   ]
  },
  {
   "cell_type": "code",
   "execution_count": 59,
   "id": "c8e0286d-e6d5-4770-aecf-757ed2984909",
   "metadata": {},
   "outputs": [],
   "source": [
    "pluto_gdf = pluto_gdf.drop(columns=['total_area', 'assesstot'])"
   ]
  },
  {
   "cell_type": "code",
   "execution_count": 60,
   "id": "d1501d65-ea1f-45a5-9690-ffcb6cc5d817",
   "metadata": {},
   "outputs": [
    {
     "name": "stdout",
     "output_type": "stream",
     "text": [
      "   LocationID    A    B    C    D    E    F         G    H    I  ...  \\\n",
      "0           2  0.0  0.0  0.0  0.0  0.0  0.0  0.126484  0.0  0.0  ...   \n",
      "\n",
      "           Q    R    S    T          U         V    W    Y    Z  \\\n",
      "0  71.652345  0.0  0.0  0.0  21.672865  6.548306  0.0  0.0  0.0   \n",
      "\n",
      "   avg_land_value  \n",
      "0       11.970475  \n",
      "\n",
      "[1 rows x 27 columns]\n"
     ]
    }
   ],
   "source": [
    "print(pluto_gdf.head(1))"
   ]
  },
  {
   "cell_type": "code",
   "execution_count": 61,
   "id": "80214fbe-1d3e-49dd-ad52-c652c9b07fcc",
   "metadata": {},
   "outputs": [
    {
     "name": "stdout",
     "output_type": "stream",
     "text": [
      "     LocationID    A    B    C    D    E    F         G    H    I  ...  \\\n",
      "127         132  0.0  0.0  0.0  0.0  0.0  0.0  0.372222  0.0  0.0  ...   \n",
      "\n",
      "            Q    R    S         T         U         V    W         Y    Z  \\\n",
      "127  0.127742  0.0  0.0  98.79084  0.666143  0.030398  0.0  0.012655  0.0   \n",
      "\n",
      "     avg_land_value  \n",
      "127       35.495868  \n",
      "\n",
      "[1 rows x 27 columns]\n"
     ]
    }
   ],
   "source": [
    "# Print the row of jfk airport \n",
    "jfk_row = pluto_gdf[pluto_gdf['LocationID'] == 132]\n",
    "print(jfk_row)"
   ]
  },
  {
   "cell_type": "code",
   "execution_count": 62,
   "id": "23212e6c-15d3-4e58-8be2-f2e0a4f4e3c0",
   "metadata": {},
   "outputs": [
    {
     "name": "stdout",
     "output_type": "stream",
     "text": [
      "     LocationID    A    B    C    D    E    F         G    H    I  ...  \\\n",
      "262           1  0.0  0.0  0.0  0.0  0.0  0.0  0.372222  0.0  0.0  ...   \n",
      "\n",
      "            Q    R    S         T         U         V    W         Y    Z  \\\n",
      "262  0.127742  0.0  0.0  98.79084  0.666143  0.030398  0.0  0.012655  0.0   \n",
      "\n",
      "     avg_land_value  \n",
      "262       35.495868  \n",
      "\n",
      "[1 rows x 27 columns]\n"
     ]
    }
   ],
   "source": [
    "# Select the row with LocationID = 132 (JFK Airport)\n",
    "jfk_row = pluto_gdf[pluto_gdf['LocationID'] == 132].copy()\n",
    "\n",
    "# Modify the LocationID to 1 (Newark Airport)\n",
    "jfk_row['LocationID'] = 1\n",
    "\n",
    "# Append the new row to the original DataFrame\n",
    "pluto_gdf = pd.concat([pluto_gdf, jfk_row], ignore_index=True)\n",
    "\n",
    "# Print the new row to verify\n",
    "print(pluto_gdf[pluto_gdf['LocationID'] == 1])"
   ]
  },
  {
   "cell_type": "markdown",
   "id": "39f4fe82",
   "metadata": {},
   "source": [
    "# Export the processed external dataset"
   ]
  },
  {
   "cell_type": "code",
   "execution_count": 63,
   "id": "62215fad-9a4c-451f-9302-5bdea23a13f4",
   "metadata": {},
   "outputs": [
    {
     "name": "stdout",
     "output_type": "stream",
     "text": [
      "Data has been successfully exported to the processed_external directory.\n"
     ]
    }
   ],
   "source": [
    "import os\n",
    "\n",
    "output_dir = '../data/processed_external_data'\n",
    "\n",
    "# Check if the directory exists, and create if not\n",
    "if not os.path.exists(output_dir):\n",
    "    os.makedirs(output_dir)\n",
    "\n",
    "# Export weather data\n",
    "weather_data.to_csv(os.path.join(output_dir, 'processed_weather_data.csv'), index=False)\n",
    "\n",
    "# Export PLUTO data\n",
    "pluto_gdf.to_csv(os.path.join(output_dir, 'processed_pluto_data.csv'), index=False)\n",
    "\n",
    "print(\"Data has been successfully exported to the processed_external directory.\")"
   ]
  }
 ],
 "metadata": {
  "kernelspec": {
   "display_name": "Python 3 (ipykernel)",
   "language": "python",
   "name": "python3"
  },
  "language_info": {
   "codemirror_mode": {
    "name": "ipython",
    "version": 3
   },
   "file_extension": ".py",
   "mimetype": "text/x-python",
   "name": "python",
   "nbconvert_exporter": "python",
   "pygments_lexer": "ipython3",
   "version": "3.12.5"
  },
  "vscode": {
   "interpreter": {
    "hash": "b0fa6594d8f4cbf19f97940f81e996739fb7646882a419484c72d19e05852a7e"
   }
  }
 },
 "nbformat": 4,
 "nbformat_minor": 5
}
